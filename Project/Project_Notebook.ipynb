{
  "nbformat": 4,
  "nbformat_minor": 0,
  "metadata": {
    "colab": {
      "provenance": [],
      "authorship_tag": "ABX9TyNsKBChd/QtFciPWBTQV9fz",
      "include_colab_link": true
    },
    "kernelspec": {
      "name": "python3",
      "display_name": "Python 3"
    },
    "language_info": {
      "name": "python"
    }
  },
  "cells": [
    {
      "cell_type": "markdown",
      "metadata": {
        "id": "view-in-github",
        "colab_type": "text"
      },
      "source": [
        "<a href=\"https://colab.research.google.com/github/dnzambuli/Deep-learning-4-CV/blob/master/Project_Notebook.ipynb\" target=\"_parent\"><img src=\"https://colab.research.google.com/assets/colab-badge.svg\" alt=\"Open In Colab\"/></a>"
      ]
    },
    {
      "cell_type": "markdown",
      "source": [
        "# Medical Image Segmentation for Disease Diagnosis\n",
        "\n",
        "## The Data\n",
        "SIPaKMeD Database\n",
        "\n",
        "## Data Description\n",
        "The SIPaKMeD Database consists of 4049 images of isolated cells that have been manually cropped from 966 cluster cell images of Pap smear slides. These images were acquired through a CCD camera adapted to an optical microscope. The cell images are divided into five categories containing normal, abnormal and benign cells.\n",
        "\n",
        "## Data Source\n",
        "https://dataverse.harvard.edu/dataset.xhtml?persistentId=doi:10.7910/DVN/O2WVWA\n",
        "\n",
        "# Reference\n",
        "Marina E. Plissiti, Panagiotis Dimitrakopoulos, Giorgos Sfikas, Christophoros Nikou, Olga Krikoni, Antonia\n",
        "\n",
        "&emsp;&emsp;Charchanti, SIPAKMED: A new dataset for feature\n",
        "\n",
        "&emsp;&emsp;and image based classification of normal and pathological cervical cells in Pap smear images, IEEE\n",
        "\n",
        "&emsp;&emsp;International Conference on Image Processing (ICIP) 2018, Athens, Greece, 7-10 October 2018."
      ],
      "metadata": {
        "id": "93CR-NC6l0v-"
      }
    },
    {
      "cell_type": "markdown",
      "source": [
        "# Task Requirements\n",
        "\n",
        "## Context\n",
        "Malaria is a leading cause of death in Africa. Many **rural clinics** lack advanced diagnostic tools. AI-powered **microscopy image segmentation** can help detect **malaria parasites in blood smears**, reducing misdiagnosis.\n",
        "\n",
        "## Project Objective:\n",
        "Train a **U-Net model** to segment malaria-infected blood cells from microscopic images\n",
        "\n",
        "## Steps:\n",
        "1. **Dataset:** Use the NIH malaria dataset or collect labeled blood smear images.\n",
        "2. **Preprocessing:** Convert images to grayscale, normalize pixel values.\n",
        "3. **Train U-Net Model:** Use U-Net for cell segmentation.\n",
        "4. **Evaluation:** Measure IoU (Intersection over Union) and Dice Score.\n",
        "\n",
        "## Real-World Impact:\n",
        "✅ Provides AI-assisted malaria diagnosis for rural clinics.\n",
        "\n",
        "✅ Reduces human error in manual microscopy diagnosis.\n",
        "\n",
        "✅ Helps doctors prioritize high-risk patients.\n",
        "\n",
        "## Assesment Rubric\n",
        "\n",
        "|Criteria| Description| Marks|\n",
        "|:----|:----|:----|\n",
        "|Dataset Preparation| Handling of malaria microscopy images| 20|\n",
        "|Model Implementation| Training U-Net for segmentation| 25|\n",
        "|Performance| Evaluation IoU, Dice Score| 20|\n",
        "|Code Documentation| Structured and well-commented code| 15|\n",
        "|Report & Visualization| Accuracy analysis and segmentation results| 20|"
      ],
      "metadata": {
        "id": "WXkcU3rtNdi2"
      }
    },
    {
      "cell_type": "code",
      "execution_count": null,
      "metadata": {
        "id": "zXTu1PAclsXD",
        "colab": {
          "base_uri": "https://localhost:8080/"
        },
        "outputId": "c7fe744d-ecd9-4704-aa79-acc9c63e458f"
      },
      "outputs": [
        {
          "output_type": "stream",
          "name": "stdout",
          "text": [
            "--2025-03-19 07:16:55--  https://dataverse.harvard.edu/api/access/datafile/6510366?format=zip\n",
            "Resolving dataverse.harvard.edu (dataverse.harvard.edu)... 3.217.215.121, 52.87.118.71, 3.90.126.92\n",
            "Connecting to dataverse.harvard.edu (dataverse.harvard.edu)|3.217.215.121|:443... connected.\n",
            "HTTP request sent, awaiting response... 404 Not Found\n",
            "2025-03-19 07:16:55 ERROR 404: Not Found.\n",
            "\n",
            "--2025-03-19 07:16:55--  https://dataverse.harvard.edu/api/access/datafile/6510367?format=zip\n",
            "Resolving dataverse.harvard.edu (dataverse.harvard.edu)... 3.217.215.121, 52.87.118.71, 3.90.126.92\n",
            "Connecting to dataverse.harvard.edu (dataverse.harvard.edu)|3.217.215.121|:443... connected.\n",
            "HTTP request sent, awaiting response... 404 Not Found\n",
            "2025-03-19 07:16:55 ERROR 404: Not Found.\n",
            "\n",
            "--2025-03-19 07:16:55--  https://dataverse.harvard.edu/api/access/datafile/6510368?format=zip\n",
            "Resolving dataverse.harvard.edu (dataverse.harvard.edu)... 3.217.215.121, 52.87.118.71, 3.90.126.92\n",
            "Connecting to dataverse.harvard.edu (dataverse.harvard.edu)|3.217.215.121|:443... connected.\n",
            "HTTP request sent, awaiting response... 404 Not Found\n",
            "2025-03-19 07:16:55 ERROR 404: Not Found.\n",
            "\n",
            "--2025-03-19 07:16:55--  https://dataverse.harvard.edu/api/access/datafile/6510369?format=zip\n",
            "Resolving dataverse.harvard.edu (dataverse.harvard.edu)... 3.217.215.121, 52.87.118.71, 3.90.126.92\n",
            "Connecting to dataverse.harvard.edu (dataverse.harvard.edu)|3.217.215.121|:443... connected.\n",
            "HTTP request sent, awaiting response... 404 Not Found\n",
            "2025-03-19 07:16:55 ERROR 404: Not Found.\n",
            "\n",
            "[Thick_Infected.zip]\n",
            "  End-of-central-directory signature not found.  Either this file is not\n",
            "  a zipfile, or it constitutes one disk of a multi-part archive.  In the\n",
            "  latter case the central directory and zipfile comment will be found on\n",
            "  the last disk(s) of this archive.\n",
            "unzip:  cannot find zipfile directory in one of Thick_Infected.zip or\n",
            "        Thick_Infected.zip.zip, and cannot find Thick_Infected.zip.ZIP, period.\n",
            "[Thick_Uninfected.zip]\n",
            "  End-of-central-directory signature not found.  Either this file is not\n",
            "  a zipfile, or it constitutes one disk of a multi-part archive.  In the\n",
            "  latter case the central directory and zipfile comment will be found on\n",
            "  the last disk(s) of this archive.\n",
            "unzip:  cannot find zipfile directory in one of Thick_Uninfected.zip or\n",
            "        Thick_Uninfected.zip.zip, and cannot find Thick_Uninfected.zip.ZIP, period.\n",
            "[Thin_Infected.zip]\n",
            "  End-of-central-directory signature not found.  Either this file is not\n",
            "  a zipfile, or it constitutes one disk of a multi-part archive.  In the\n",
            "  latter case the central directory and zipfile comment will be found on\n",
            "  the last disk(s) of this archive.\n",
            "unzip:  cannot find zipfile directory in one of Thin_Infected.zip or\n",
            "        Thin_Infected.zip.zip, and cannot find Thin_Infected.zip.ZIP, period.\n",
            "[Thin_Uninfected.zip]\n",
            "  End-of-central-directory signature not found.  Either this file is not\n",
            "  a zipfile, or it constitutes one disk of a multi-part archive.  In the\n",
            "  latter case the central directory and zipfile comment will be found on\n",
            "  the last disk(s) of this archive.\n",
            "unzip:  cannot find zipfile directory in one of Thin_Uninfected.zip or\n",
            "        Thin_Uninfected.zip.zip, and cannot find Thin_Uninfected.zip.ZIP, period.\n"
          ]
        }
      ],
      "source": [
        "# download the datasets from https://dataverse.harvard.edu/dataset.xhtml?persistentId=doi:10.7910/DVN/O2WVWA.\n",
        "# The data is labeled as: Thick_Infected.zip,\n",
        "# Thick_Uninfected.zip, Thin_Infected.zip, Thin_Uninfected.zip. Unzip them as similar named data\n",
        "\n",
        "!wget https://dataverse.harvard.edu/api/access/datafile/6510366?format=zip -O Thick_Infected.zip\n",
        "!wget https://dataverse.harvard.edu/api/access/datafile/6510367?format=zip -O Thick_Uninfected.zip\n",
        "!wget https://dataverse.harvard.edu/api/access/datafile/6510368?format=zip -O Thin_Infected.zip\n",
        "!wget https://dataverse.harvard.edu/api/access/datafile/6510369?format=zip -O Thin_Uninfected.zip\n",
        "\n",
        "!unzip -q Thick_Infected.zip -d Thick_Infected\n",
        "!unzip -q Thick_Uninfected.zip -d Thick_Uninfected\n",
        "!unzip -q Thin_Infected.zip -d Thin_Infected\n",
        "!unzip -q Thin_Uninfected.zip -d Thin_Uninfected\n",
        "\n",
        "!rm Thick_Infected.zip Thick_Uninfected.zip Thin_Infected.zip Thin_Uninfected.zip\n"
      ]
    }
  ]
}